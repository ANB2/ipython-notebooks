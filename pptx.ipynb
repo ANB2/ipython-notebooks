{
 "metadata": {
  "name": ""
 },
 "nbformat": 3,
 "nbformat_minor": 0,
 "worksheets": [
  {
   "cells": [
    {
     "cell_type": "markdown",
     "metadata": {},
     "source": [
      "# Creating PowerPoint files\n",
      "\n",
      "The script below creates a PPTX with a single oval. Let's take that as a given, and change the fill of the oval to `accent2`."
     ]
    },
    {
     "cell_type": "code",
     "collapsed": false,
     "input": [
      "from pptx import Presentation\n",
      "from pptx.constants import MSO\n",
      "from pptx.oxml import _SubElement\n",
      "from pptx.util import Inches\n",
      "from pptx import constants\n",
      "\n",
      "prs = Presentation()\n",
      "title_only_slidelayout = prs.slidelayouts[5]\n",
      "slide = prs.slides.add_slide(title_only_slidelayout)\n",
      "shapes = slide.shapes\n",
      "\n",
      "shapes.title.text = 'Adding an Oval'\n",
      "\n",
      "left = Inches(0.93)\n",
      "top = Inches(3.0)\n",
      "width = Inches(1.0)\n",
      "height = Inches(1.0)\n",
      "ORANGE = 'FF6600'\n",
      "\n",
      "shape = shapes.add_shape(constants.MSO_AUTO_SHAPE_TYPE.OVAL, left, top, width, height)\n",
      "shape.text = 'Oval'"
     ],
     "language": "python",
     "metadata": {},
     "outputs": [],
     "prompt_number": 6
    },
    {
     "cell_type": "markdown",
     "metadata": {},
     "source": [
      "To change the colour to accent2, we need to create this XML structure under p:spPr\n",
      "\n",
      "      <a:solidFill>\n",
      "        <a:schemeClr val=\"accent2\" />\n",
      "      </a:solidFill>\n",
      "      \n",
      "See [this commit](https://github.com/sanand0/pptx-git/commit/88b4f55d7af967384eb95ee7fb5a4b308ef86e9b) to understand why.\n",
      "\n",
      "Here's the code that does that:"
     ]
    },
    {
     "cell_type": "code",
     "collapsed": false,
     "input": [
      "# We use nsmap a fair bit. This defines the prefixes liek a:, p:, etc.\n",
      "from pptx.shapes import _nsmap as nsmap\n",
      "\n",
      "# ElementMaker simplifies the construction of XML elements considerably.\n",
      "# See http://lxml.de/tutorial.html#the-e-factory\n",
      "# Basically a.solidFill() will create <a:solidFill>, which is cool.\n",
      "from lxml.builder import ElementMaker\n",
      "a = ElementMaker(namespace=nsmap['a'], nsmap=nsmap)\n",
      "\n",
      "# shape._element is the raw lxml element. Under that, find p:spPar\n",
      "# where the a:solidFill should be inserted\n",
      "spPr = shape._element.find('p:spPr', namespaces=nsmap)\n",
      "\n",
      "# Append the XML we want to insert.\n",
      "spPr.append(a.solidFill(a.schemeClr(val=\"accent2\")))"
     ],
     "language": "python",
     "metadata": {},
     "outputs": [],
     "prompt_number": 7
    },
    {
     "cell_type": "code",
     "collapsed": false,
     "input": [
      "prs.save('killme.pptx')"
     ],
     "language": "python",
     "metadata": {},
     "outputs": [],
     "prompt_number": 8
    }
   ],
   "metadata": {}
  }
 ]
}