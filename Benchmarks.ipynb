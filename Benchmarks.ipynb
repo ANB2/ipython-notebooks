{
 "metadata": {
  "name": ""
 },
 "nbformat": 3,
 "nbformat_minor": 0,
 "worksheets": [
  {
   "cells": [
    {
     "cell_type": "markdown",
     "metadata": {},
     "source": [
      "# Date parsing\n",
      "\n",
      "Date parsing in Python is quite slow, especially for large arrays.\n",
      "Here's a benchmark of various approaches.\n",
      "\n",
      "    to_datetime: 5799 ms\n",
      "    dateutil:    5162 ms\n",
      "    strptime:    1651 ms\n",
      "    manual:       242 ms\n",
      "    lookup:        32 ms\n",
      "\n",
      "Manual string-array-based parsing of dates is significantly faster.\n",
      "If there aren't many dates, lookups are *MUCH* faster."
     ]
    },
    {
     "cell_type": "code",
     "collapsed": false,
     "input": [
      "import time\n",
      "import datetime\n",
      "import dateutil.parser\n",
      "import pandas as pd\n",
      "\n",
      "s = pd.Series(['01-31-2012']*100000)"
     ],
     "language": "python",
     "metadata": {},
     "outputs": [],
     "prompt_number": 2
    },
    {
     "cell_type": "code",
     "collapsed": false,
     "input": [
      "# Use Pandas' built-in to_datetime\n",
      "timeit pd.to_datetime(s)"
     ],
     "language": "python",
     "metadata": {},
     "outputs": [
      {
       "output_type": "stream",
       "stream": "stdout",
       "text": [
        "1 loops, best of 3: 6.39 s per loop\n"
       ]
      }
     ],
     "prompt_number": 3
    },
    {
     "cell_type": "code",
     "collapsed": false,
     "input": [
      "# Use dateutil.parser\n",
      "timeit s.apply(dateutil.parser.parse)"
     ],
     "language": "python",
     "metadata": {},
     "outputs": [
      {
       "output_type": "stream",
       "stream": "stdout",
       "text": [
        "1 loops, best of 3: 5.45 s per loop\n"
       ]
      }
     ],
     "prompt_number": 4
    },
    {
     "cell_type": "code",
     "collapsed": false,
     "input": [
      "# Parse using datetime.strptime\n",
      "timeit s.apply(lambda v: datetime.datetime.strptime(v, '%m-%d-%Y'))"
     ],
     "language": "python",
     "metadata": {},
     "outputs": [
      {
       "output_type": "stream",
       "stream": "stdout",
       "text": [
        "1 loops, best of 3: 1.84 s per loop\n"
       ]
      }
     ],
     "prompt_number": 5
    },
    {
     "cell_type": "code",
     "collapsed": false,
     "input": [
      "# Manually parse the date\n",
      "timeit s.apply(lambda v: datetime.datetime(int(v[6:10]), int(v[0:2]), int(v[3:5])))"
     ],
     "language": "python",
     "metadata": {},
     "outputs": [
      {
       "output_type": "stream",
       "stream": "stdout",
       "text": [
        "1 loops, best of 3: 284 ms per loop\n"
       ]
      }
     ],
     "prompt_number": 6
    },
    {
     "cell_type": "code",
     "collapsed": false,
     "input": [
      "def lookup(s):\n",
      "    \"\"\"\n",
      "    This is an extremely fast approach to datetime parsing.\n",
      "    For large data, the same dates are often repeated. Rather than\n",
      "    re-parse these, we store all unique dates, parse them, and\n",
      "    use a lookup to convert all dates.\n",
      "    \"\"\"\n",
      "    dates = {date:pd.to_datetime(date) for date in s.unique()}\n",
      "    return s.apply(lambda v: dates[v])\n",
      "\n",
      "%timeit lookup(s)"
     ],
     "language": "python",
     "metadata": {},
     "outputs": [
      {
       "output_type": "stream",
       "stream": "stdout",
       "text": [
        "10 loops, best of 3: 45.1 ms per loop\n"
       ]
      }
     ],
     "prompt_number": 8
    },
    {
     "cell_type": "markdown",
     "metadata": {},
     "source": [
      "# Mean vs Median\n",
      "\n",
      "Mean is much faster to calculate than median."
     ]
    },
    {
     "cell_type": "code",
     "collapsed": false,
     "input": [
      "import time\n",
      "import numpy\n",
      "\n",
      "data = numpy.random.rand(50000000)"
     ],
     "language": "python",
     "metadata": {},
     "outputs": [],
     "prompt_number": 9
    },
    {
     "cell_type": "code",
     "collapsed": false,
     "input": [
      "timeit numpy.mean(data)"
     ],
     "language": "python",
     "metadata": {},
     "outputs": [
      {
       "output_type": "stream",
       "stream": "stdout",
       "text": [
        "10 loops, best of 3: 61.7 ms per loop\n"
       ]
      }
     ],
     "prompt_number": 10
    },
    {
     "cell_type": "code",
     "collapsed": false,
     "input": [
      "timeit numpy.median(data)"
     ],
     "language": "python",
     "metadata": {},
     "outputs": [
      {
       "output_type": "stream",
       "stream": "stdout",
       "text": [
        "1 loops, best of 3: 6.13 s per loop\n"
       ]
      }
     ],
     "prompt_number": 11
    },
    {
     "cell_type": "markdown",
     "metadata": {},
     "source": [
      "# Reading data\n",
      "\n",
      "CSV is the fastest for data storage, and Pandas is the best way of processing it.\n",
      "\n",
      "    csv.DictReader:      6.97 s\n",
      "    pickle:              6.19 s\n",
      "    json:                6.12 s\n",
      "    json-array:          1.70 s\n",
      "    csv.reader:          1.15 s\n",
      "    pandas.read_csv       .86 s\n",
      "    pandas.read_pickle:   .76 s"
     ]
    },
    {
     "cell_type": "code",
     "collapsed": false,
     "input": [
      "# First, create a set of data files\n",
      "words = 'ad adipisicing aliqua aliquip amet anim aute cillum commodo consectetur consequat culpa cupidatat deserunt do dolor dolore duis ea eiusmod elit enim esse est et eu ex excepteur exercitation fugiat id in incididunt ipsum irure labore laboris laborum lorem magna minim mollit nisi non nostrud nulla occaecat officia pariatur proident qui quis reprehenderit sed sint sit sunt tempor ullamco ut velit veniam voluptate'.split()\n",
      "\n",
      "# Create the data in memory\n",
      "data = []\n",
      "for row in range(0, 1000000):\n",
      "    data.append({\n",
      "        'A': words[row % len(words)],\n",
      "        'B': chr(64 + (row % 62)),\n",
      "        'C': row,\n",
      "        'D': row + 1,\n",
      "        'E': row + 2,\n",
      "        'F': row + 3,\n",
      "    })\n",
      "\n",
      "# Save CSV\n",
      "import csv\n",
      "keys = sorted(data[0].keys())\n",
      "out = csv.DictWriter(open('sample.data.csv', 'w'),\n",
      "    fieldnames=keys,\n",
      "    lineterminator='\\n')\n",
      "out.writerow(dict(zip(keys, keys)))\n",
      "out.writerows(data)\n",
      "\n",
      "# Save JSON\n",
      "import json\n",
      "json.dump(data, open('sample.data.json', 'w'), separators= (',', ':'))\n",
      "\n",
      "# Save JSON-array\n",
      "import json\n",
      "json.dump([data[0].keys()] + [row.values() for row in data],\n",
      "    open('sample.data-array.json', 'w'),\n",
      "    separators= (',', ':'))\n",
      "\n",
      "# Save pickle\n",
      "import cPickle as pickle\n",
      "pickle.dump(data, open('sample.data.pickle', 'wb'), pickle.HIGHEST_PROTOCOL)\n",
      "\n",
      "# Save pandas pickle\n",
      "import pandas as pd\n",
      "pd.DataFrame(data, columns=data[0].keys()).to_pickle('sample.data.pandas')"
     ],
     "language": "python",
     "metadata": {},
     "outputs": [],
     "prompt_number": 25
    },
    {
     "cell_type": "code",
     "collapsed": false,
     "input": [
      "import time\n",
      "import csv\n",
      "import json\n",
      "import cPickle as pickle\n",
      "import pandas as pd"
     ],
     "language": "python",
     "metadata": {},
     "outputs": [],
     "prompt_number": 13
    },
    {
     "cell_type": "code",
     "collapsed": false,
     "input": [
      "timeit list(csv.reader(open('sample.data.csv')))"
     ],
     "language": "python",
     "metadata": {},
     "outputs": [
      {
       "output_type": "stream",
       "stream": "stdout",
       "text": [
        "1 loops, best of 3: 1.15 s per loop\n"
       ]
      }
     ],
     "prompt_number": 15
    },
    {
     "cell_type": "code",
     "collapsed": false,
     "input": [
      "timeit list(csv.DictReader(open('sample.data.csv')))"
     ],
     "language": "python",
     "metadata": {},
     "outputs": [
      {
       "output_type": "stream",
       "stream": "stdout",
       "text": [
        "1 loops, best of 3: 6.97 s per loop\n"
       ]
      }
     ],
     "prompt_number": 16
    },
    {
     "cell_type": "code",
     "collapsed": false,
     "input": [
      "timeit json.load(open('sample.data.json'))"
     ],
     "language": "python",
     "metadata": {},
     "outputs": [
      {
       "output_type": "stream",
       "stream": "stdout",
       "text": [
        "1 loops, best of 3: 6.12 s per loop\n"
       ]
      }
     ],
     "prompt_number": 17
    },
    {
     "cell_type": "code",
     "collapsed": false,
     "input": [
      "timeit json.load(open('sample.data-array.json'))"
     ],
     "language": "python",
     "metadata": {},
     "outputs": [
      {
       "output_type": "stream",
       "stream": "stdout",
       "text": [
        "1 loops, best of 3: 1.7 s per loop\n"
       ]
      }
     ],
     "prompt_number": 19
    },
    {
     "cell_type": "code",
     "collapsed": false,
     "input": [
      "timeit pickle.load(open('sample.data.pickle', 'rb'))"
     ],
     "language": "python",
     "metadata": {},
     "outputs": [
      {
       "output_type": "stream",
       "stream": "stdout",
       "text": [
        "1 loops, best of 3: 6.19 s per loop\n"
       ]
      }
     ],
     "prompt_number": 21
    },
    {
     "cell_type": "code",
     "collapsed": false,
     "input": [
      "timeit pd.read_pickle('sample.data.pandas')"
     ],
     "language": "python",
     "metadata": {},
     "outputs": [
      {
       "output_type": "stream",
       "stream": "stdout",
       "text": [
        "1 loops, best of 3: 755 ms per loop\n"
       ]
      }
     ],
     "prompt_number": 22
    },
    {
     "cell_type": "code",
     "collapsed": false,
     "input": [
      "timeit pd.read_csv('sample.data.csv')"
     ],
     "language": "python",
     "metadata": {},
     "outputs": [
      {
       "output_type": "stream",
       "stream": "stdout",
       "text": [
        "1 loops, best of 3: 863 ms per loop\n"
       ]
      }
     ],
     "prompt_number": 24
    },
    {
     "cell_type": "markdown",
     "metadata": {},
     "source": [
      "# Templates vs lxml vs cElementTree\n",
      "\n",
      "This is the time taken to generate a bar chart, in \u00b5s. The output could either be xml (etree) or text.\n",
      "\n",
      "                  xml text\n",
      "    template       68   35\n",
      "    lxml           73   87\n",
      "    cElementTree   23  247\n",
      "\n",
      "For string output, tornado templates are extremely fast. Even for etree, it's faster than using lxml directly. However, if you only want etree output and not string, cElementTree is faster.\n",
      "\n",
      "To me, the template approach with lxml.fromstring appears optimal."
     ]
    },
    {
     "cell_type": "code",
     "collapsed": false,
     "input": [
      "from IPython.display import HTML\n",
      "from tornado import template\n",
      "\n",
      "using_template = template.Template('''\n",
      "<svg width=\"100\" height=\"50\">\n",
      "  {% for i, x in enumerate(series) %}\n",
      "    <rect x=\"{{ 10 * i }}\" width=\"10\" y=\"{{ 50 - 10 * x }}\" height=\"{{ 10 * x }}\" fill=\"#88f\" stroke=\"#fff\"/>\n",
      "  {% end %}\n",
      "</svg>\n",
      "''', autoescape=None).generate\n",
      "\n",
      "HTML(using_template(series=[1,2,3,4,3,2,1]))"
     ],
     "language": "python",
     "metadata": {},
     "outputs": [
      {
       "html": [
        "\n",
        "<svg width=\"100\" height=\"50\">\n",
        "  \n",
        "    <rect x=\"0\" width=\"10\" y=\"40\" height=\"10\" fill=\"#88f\" stroke=\"#fff\"/>\n",
        "  \n",
        "    <rect x=\"10\" width=\"10\" y=\"30\" height=\"20\" fill=\"#88f\" stroke=\"#fff\"/>\n",
        "  \n",
        "    <rect x=\"20\" width=\"10\" y=\"20\" height=\"30\" fill=\"#88f\" stroke=\"#fff\"/>\n",
        "  \n",
        "    <rect x=\"30\" width=\"10\" y=\"10\" height=\"40\" fill=\"#88f\" stroke=\"#fff\"/>\n",
        "  \n",
        "    <rect x=\"40\" width=\"10\" y=\"20\" height=\"30\" fill=\"#88f\" stroke=\"#fff\"/>\n",
        "  \n",
        "    <rect x=\"50\" width=\"10\" y=\"30\" height=\"20\" fill=\"#88f\" stroke=\"#fff\"/>\n",
        "  \n",
        "    <rect x=\"60\" width=\"10\" y=\"40\" height=\"10\" fill=\"#88f\" stroke=\"#fff\"/>\n",
        "  \n",
        "</svg>\n"
       ],
       "metadata": {},
       "output_type": "pyout",
       "prompt_number": 1,
       "text": [
        "<IPython.core.display.HTML at 0x88dd630>"
       ]
      }
     ],
     "prompt_number": 1
    },
    {
     "cell_type": "code",
     "collapsed": false,
     "input": [
      "from lxml import etree\n",
      "\n",
      "def using_lxml(series):\n",
      "    root = etree.Element('svg', width=\"100\", height=\"50\")\n",
      "    for i, x in enumerate(series):\n",
      "        rect = etree.SubElement(root, 'rect',\n",
      "            x      = '%d' % (10 * i),\n",
      "            width  = '10',\n",
      "            y      = '%d' % (50 - 10 * x),\n",
      "            height = '%d' % (10 * x),\n",
      "            fill   = '#88f',\n",
      "            stroke = '#fff')\n",
      "    return root\n",
      "\n",
      "HTML(etree.tostring(using_lxml(series=[1,2,3,4,3,2,1])))"
     ],
     "language": "python",
     "metadata": {},
     "outputs": [
      {
       "html": [
        "<svg height=\"50\" width=\"100\"><rect fill=\"#88f\" height=\"10\" stroke=\"#fff\" width=\"10\" x=\"0\" y=\"40\"/><rect fill=\"#88f\" height=\"20\" stroke=\"#fff\" width=\"10\" x=\"10\" y=\"30\"/><rect fill=\"#88f\" height=\"30\" stroke=\"#fff\" width=\"10\" x=\"20\" y=\"20\"/><rect fill=\"#88f\" height=\"40\" stroke=\"#fff\" width=\"10\" x=\"30\" y=\"10\"/><rect fill=\"#88f\" height=\"30\" stroke=\"#fff\" width=\"10\" x=\"40\" y=\"20\"/><rect fill=\"#88f\" height=\"20\" stroke=\"#fff\" width=\"10\" x=\"50\" y=\"30\"/><rect fill=\"#88f\" height=\"10\" stroke=\"#fff\" width=\"10\" x=\"60\" y=\"40\"/></svg>"
       ],
       "metadata": {},
       "output_type": "pyout",
       "prompt_number": 2,
       "text": [
        "<IPython.core.display.HTML at 0x89ae978>"
       ]
      }
     ],
     "prompt_number": 2
    },
    {
     "cell_type": "code",
     "collapsed": false,
     "input": [
      "import xml.etree.cElementTree as cElementTree\n",
      "\n",
      "def using_cElementTree(series):\n",
      "    root = cElementTree.Element('svg', width=\"100\", height=\"50\")\n",
      "    for i, x in enumerate(series):\n",
      "        rect = cElementTree.SubElement(root, 'rect',\n",
      "            x      = '%d' % (10 * i),\n",
      "            width  = '10',\n",
      "            y      = '%d' % (50 - 10 * x),\n",
      "            height = '%d' % (10 * x),\n",
      "            fill   = '#88f',\n",
      "            stroke = '#fff')\n",
      "    return root\n",
      "\n",
      "HTML(cElementTree.tostring(using_cElementTree(series=[1,2,3,4,3,2,1])))"
     ],
     "language": "python",
     "metadata": {},
     "outputs": [
      {
       "html": [
        "<svg height=\"50\" width=\"100\"><rect fill=\"#88f\" height=\"10\" stroke=\"#fff\" width=\"10\" x=\"0\" y=\"40\" /><rect fill=\"#88f\" height=\"20\" stroke=\"#fff\" width=\"10\" x=\"10\" y=\"30\" /><rect fill=\"#88f\" height=\"30\" stroke=\"#fff\" width=\"10\" x=\"20\" y=\"20\" /><rect fill=\"#88f\" height=\"40\" stroke=\"#fff\" width=\"10\" x=\"30\" y=\"10\" /><rect fill=\"#88f\" height=\"30\" stroke=\"#fff\" width=\"10\" x=\"40\" y=\"20\" /><rect fill=\"#88f\" height=\"20\" stroke=\"#fff\" width=\"10\" x=\"50\" y=\"30\" /><rect fill=\"#88f\" height=\"10\" stroke=\"#fff\" width=\"10\" x=\"60\" y=\"40\" /></svg>"
       ],
       "metadata": {},
       "output_type": "pyout",
       "prompt_number": 3,
       "text": [
        "<IPython.core.display.HTML at 0x88d5860>"
       ]
      }
     ],
     "prompt_number": 3
    },
    {
     "cell_type": "code",
     "collapsed": false,
     "input": [
      "# Create etree output\n",
      "%timeit etree.fromstring(using_template(series=[1,2,3,4,3,2,1]))\n",
      "%timeit using_lxml(series=[1,2,3,4,3,2,1])\n",
      "%timeit using_cElementTree(series=[1,2,3,4,3,2,1])\n",
      "\n",
      "# Create string output\n",
      "%timeit using_template(series=[1,2,3,4,3,2,1])\n",
      "%timeit etree.tostring(using_lxml(series=[1,2,3,4,3,2,1]))\n",
      "%timeit cElementTree.tostring(using_cElementTree(series=[1,2,3,4,3,2,1]))"
     ],
     "language": "python",
     "metadata": {},
     "outputs": [
      {
       "output_type": "stream",
       "stream": "stdout",
       "text": [
        "10000 loops, best of 3: 67.5 \u00b5s per loop\n",
        "10000 loops, best of 3: 72.8 \u00b5s per loop"
       ]
      },
      {
       "output_type": "stream",
       "stream": "stdout",
       "text": [
        "\n",
        "10000 loops, best of 3: 22.6 \u00b5s per loop"
       ]
      },
      {
       "output_type": "stream",
       "stream": "stdout",
       "text": [
        "\n",
        "10000 loops, best of 3: 34.6 \u00b5s per loop"
       ]
      },
      {
       "output_type": "stream",
       "stream": "stdout",
       "text": [
        "\n",
        "10000 loops, best of 3: 87.2 \u00b5s per loop"
       ]
      },
      {
       "output_type": "stream",
       "stream": "stdout",
       "text": [
        "\n",
        "1000 loops, best of 3: 247 \u00b5s per loop"
       ]
      },
      {
       "output_type": "stream",
       "stream": "stdout",
       "text": [
        "\n"
       ]
      }
     ],
     "prompt_number": 6
    },
    {
     "cell_type": "markdown",
     "metadata": {},
     "source": [
      "# Numba\n",
      "\n",
      "I'm trying to see how fast numba is. `autojit(fn)` makes `fn` faster. `numpy.sum` and `@autojit` take about the same time. Python loops are much slower.\n",
      "\n",
      "Looks like @autojit is a decent replacement for `numpy.vectorize`."
     ]
    },
    {
     "cell_type": "code",
     "collapsed": false,
     "input": [
      "from numba import autojit\n",
      "\n",
      "def slow_sum(arr):\n",
      "    M, N = arr.shape\n",
      "    result = 0.0\n",
      "    for i in range(M):\n",
      "        for j in range(N):\n",
      "            result += arr[i,j]\n",
      "    return result\n",
      "\n",
      "fast_sum = autojit(slow_sum)"
     ],
     "language": "python",
     "metadata": {},
     "outputs": [],
     "prompt_number": 2
    },
    {
     "cell_type": "code",
     "collapsed": false,
     "input": [
      "%timeit numpy.sum(numpy.random.rand(1000,1000))\n",
      "%timeit fast_sum(numpy.random.rand(1000,1000))\n",
      "%timeit slow_sum(numpy.random.rand(1000,1000))"
     ],
     "language": "python",
     "metadata": {},
     "outputs": [
      {
       "output_type": "stream",
       "stream": "stdout",
       "text": [
        "10 loops, best of 3: 20.5 ms per loop\n"
       ]
      },
      {
       "output_type": "stream",
       "stream": "stdout",
       "text": [
        "1 loops, best of 3: 25 ms per loop\n",
        "1 loops, best of 3: 426 ms per loop"
       ]
      },
      {
       "output_type": "stream",
       "stream": "stdout",
       "text": [
        "\n"
       ]
      }
     ],
     "prompt_number": 3
    },
    {
     "cell_type": "markdown",
     "metadata": {},
     "source": [
      "# Voronoi diagrams\n",
      "\n",
      "[Voronoi diagrams](http://en.wikipedia.org/wiki/Voronoi_diagram) takes a set of points, and creates polygons enclosing the space closer to each point than any other. This is the dual of [Delaunay triangulation](http://en.wikipedia.org/wiki/Delaunay_triangulation), which matplotlib and scipy provide by default, and can also be created directly on NumPy.\n",
      "\n",
      "Here's the speed generating via various methods:\n",
      "\n",
      "                                           Method  Time (10K)    Time (100K)\n",
      "    matplotlib.delaunay.triangulate.Triangulation  16.5ms        222ms\n",
      "                            voronoi() using NumPy  41.9ms        793ms\n",
      "                           scipy.spatial.Delaunay  51.4ms        797ms"
     ]
    },
    {
     "cell_type": "code",
     "collapsed": false,
     "input": [
      "scale = .9\n",
      "small = (1 - scale)/2 + scale * numpy.random.rand(2, 10000)\n",
      "large = (1 - scale)/2 + scale * numpy.random.rand(2, 100000)"
     ],
     "language": "python",
     "metadata": {},
     "outputs": [],
     "prompt_number": 1
    },
    {
     "cell_type": "code",
     "collapsed": false,
     "input": [
      "import matplotlib.delaunay.triangulate as tri\n",
      "%timeit tri.Triangulation(*small)\n",
      "%timeit tri.Triangulation(*large)"
     ],
     "language": "python",
     "metadata": {},
     "outputs": [
      {
       "output_type": "stream",
       "stream": "stdout",
       "text": [
        "100 loops, best of 3: 16.5 ms per loop\n",
        "1 loops, best of 3: 222 ms per loop"
       ]
      },
      {
       "output_type": "stream",
       "stream": "stdout",
       "text": [
        "\n"
       ]
      }
     ],
     "prompt_number": 2
    },
    {
     "cell_type": "code",
     "collapsed": false,
     "input": [
      "def voronoi(X, Y):\n",
      "    ''' Return line segments describing the voronoi diagram of X and Y '''\n",
      "\n",
      "    # Get the points X, Y into a matrix P.\n",
      "    P = numpy.zeros((X.size+4, 2))\n",
      "    P[:X.size, 0], P[:Y.size, 1] = X, Y\n",
      "\n",
      "    # Add four points at (pseudo) \"infinity\"\n",
      "    m = max(numpy.abs(X).max(), numpy.abs(Y).max()) * 1e5\n",
      "    P[X.size:, 0] = -m, -m, +m, +m\n",
      "    P[Y.size:, 1] = -m, +m, -m, +m\n",
      "\n",
      "    # Delaunay triangulate, and get the circumcenters\n",
      "    D = tri.Triangulation(P[:, 0], P[:, 1])\n",
      "    C = D.circumcenters\n",
      "\n",
      "    # D.triangle_neighbours = 3 neighbours.\n",
      "    # Each neighbourhood represents a line.\n",
      "\n",
      "    n = len(C)\n",
      "    tgt = D.triangle_neighbors\n",
      "    src = (numpy.zeros_like(tgt).T + numpy.arange(n)).T\n",
      "\n",
      "    # Remove all -1s\n",
      "    positives = tgt >= 0\n",
      "    n = positives.sum()\n",
      "    src = src[positives].reshape(n)\n",
      "    tgt = tgt[positives].reshape(n)\n",
      "\n",
      "    # TODO: Clip to get polygons\n",
      "    # --------------------------\n",
      "\n",
      "    # Get areas\n",
      "    # ---------\n",
      "    # http://www.mathopenref.com/coordpolygonarea.html\n",
      "    csrc = C[src]\n",
      "    ctgt = C[tgt]\n",
      "    areas = csrc[:,0] * ctgt[:,1] - csrc[:,1] * ctgt[:,0]\n",
      "    # print areas\n",
      "    # Now add up the areas by the indices given in src\n",
      "\n",
      "    # Get the circumcenters\n",
      "    return numpy.concatenate((C[tgt].reshape(n, 1, 2), C[src].reshape(n, 1, 2)), axis=1)\n",
      "\n",
      "%timeit voronoi(small[0,:], small[1,:])\n",
      "%timeit voronoi(large[0,:], large[1,:])"
     ],
     "language": "python",
     "metadata": {},
     "outputs": [
      {
       "output_type": "stream",
       "stream": "stdout",
       "text": [
        "10 loops, best of 3: 41.9 ms per loop\n",
        "1 loops, best of 3: 793 ms per loop"
       ]
      },
      {
       "output_type": "stream",
       "stream": "stdout",
       "text": [
        "\n"
       ]
      }
     ],
     "prompt_number": 3
    },
    {
     "cell_type": "code",
     "collapsed": false,
     "input": [
      "from scipy.spatial import Delaunay\n",
      "%timeit Delaunay(small.T)\n",
      "%timeit Delaunay(large.T)"
     ],
     "language": "python",
     "metadata": {},
     "outputs": [
      {
       "output_type": "stream",
       "stream": "stdout",
       "text": [
        "10 loops, best of 3: 51.4 ms per loop\n",
        "1 loops, best of 3: 797 ms per loop"
       ]
      },
      {
       "output_type": "stream",
       "stream": "stdout",
       "text": [
        "\n"
       ]
      }
     ],
     "prompt_number": 4
    }
   ],
   "metadata": {}
  }
 ]
}