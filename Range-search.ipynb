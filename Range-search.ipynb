{
 "metadata": {
  "name": "Range-search"
 },
 "nbformat": 3,
 "nbformat_minor": 0,
 "worksheets": [
  {
   "cells": [
    {
     "cell_type": "markdown",
     "metadata": {},
     "source": [
      "Having read [this post](http://blog.clifreeder.com/blog/2013/04/21/ruby-is-too-slow-for-programming-competitions/) on Ruby being slow, I thought I'd check the same with Python. I got it running fairly fast, but there was one piece that was taking a fair bit of time: *counting numbers in a range*. Here's the slow version:"
     ]
    },
    {
     "cell_type": "code",
     "collapsed": false,
     "input": [
      "values = range(1000000)\n",
      "def count(values, a, b):\n",
      "    count = 0\n",
      "    for x in values:\n",
      "        if a <= x <= b:\n",
      "            count += 1\n",
      "    return count\n",
      "\n",
      "%timeit count(values, 250000, 750000)"
     ],
     "language": "python",
     "metadata": {},
     "outputs": [
      {
       "output_type": "stream",
       "stream": "stdout",
       "text": [
        "10 loops, best of 3: 100 ms per loop\n"
       ]
      }
     ],
     "prompt_number": 18
    },
    {
     "cell_type": "markdown",
     "metadata": {},
     "source": [
      "Of course, running a loop in Python for numbers is never a good idea. Let's move this to NumPy."
     ]
    },
    {
     "cell_type": "code",
     "collapsed": false,
     "input": [
      "values = numpy.random.rand(1000000)\n",
      "%timeit ((.25 <= values) & (values <= .75)).sum()"
     ],
     "language": "python",
     "metadata": {},
     "outputs": [
      {
       "output_type": "stream",
       "stream": "stdout",
       "text": [
        "100 loops, best of 3: 14 ms per loop\n"
       ]
      }
     ],
     "prompt_number": 5
    },
    {
     "cell_type": "markdown",
     "metadata": {},
     "source": [
      "That's not bad, but it could get a lot better. First, let's sort the values and try it."
     ]
    },
    {
     "cell_type": "code",
     "collapsed": false,
     "input": [
      "values.sort()\n",
      "%timeit ((.25 <= values) & (values <= .75)).sum()"
     ],
     "language": "python",
     "metadata": {},
     "outputs": [
      {
       "output_type": "stream",
       "stream": "stdout",
       "text": [
        "100 loops, best of 3: 5.75 ms per loop\n"
       ]
      }
     ],
     "prompt_number": 8
    },
    {
     "cell_type": "markdown",
     "metadata": {},
     "source": [
      "Just like that, it's faster. But we can do much better. Given that it's already sorted, what if we just found the index?"
     ]
    },
    {
     "cell_type": "code",
     "collapsed": false,
     "input": [
      "%timeit (values <= .75).argmin() - (.25 <= values).argmax()"
     ],
     "language": "python",
     "metadata": {},
     "outputs": [
      {
       "output_type": "stream",
       "stream": "stdout",
       "text": [
        "100 loops, best of 3: 4.22 ms per loop\n"
       ]
      }
     ],
     "prompt_number": 12
    },
    {
     "cell_type": "markdown",
     "metadata": {},
     "source": [
      "A bit faster. It's wasteful of memory, though -- having to create 2 new arrays just to find the position of these two numbers. What if we searched for these?"
     ]
    },
    {
     "cell_type": "code",
     "collapsed": false,
     "input": [
      "%timeit numpy.searchsorted(values, .75) - numpy.searchsorted(values, .25)"
     ],
     "language": "python",
     "metadata": {},
     "outputs": [
      {
       "output_type": "stream",
       "stream": "stdout",
       "text": [
        "100000 loops, best of 3: 3.4 us per loop\n"
       ]
      }
     ],
     "prompt_number": 14
    },
    {
     "cell_type": "markdown",
     "metadata": {},
     "source": [
      "That's 3.4 *micro*seconds. It's *29 thousand* times faster than the original code, and *four thousand* times faster than the original NumPy code.\n",
      "\n",
      "If there's one thing I keep re-learning, it's that there's always a faster way of doing it, and if you really want to, you'll probably find it."
     ]
    }
   ],
   "metadata": {}
  }
 ]
}